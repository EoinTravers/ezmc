{
 "cells": [
  {
   "cell_type": "code",
   "execution_count": null,
   "metadata": {},
   "outputs": [],
   "source": [
    "import numpy as np\n",
    "import pandas as pd\n",
    "import matplotlib.pyplot as plt\n",
    "from scipy import stats\n",
    "from sys import stdout\n",
    "import seaborn as sns"
   ]
  },
  {
   "cell_type": "code",
   "execution_count": null,
   "metadata": {},
   "outputs": [],
   "source": [
    "## Reload stuff\n",
    "from importlib import reload\n",
    "import ezmc\n",
    "reload(ezmc)\n",
    "reload(ezmc.base)\n",
    "reload(ezmc.samplers)\n",
    "reload(ezmc.utils)\n",
    "import ezmc\n"
   ]
  },
  {
   "cell_type": "markdown",
   "metadata": {},
   "source": [
    "# Cognitive Modelling"
   ]
  },
  {
   "cell_type": "markdown",
   "metadata": {},
   "source": [
    "Let's work through a more realistic example.\n"
   ]
  },
  {
   "cell_type": "code",
   "execution_count": null,
   "metadata": {},
   "outputs": [],
   "source": [
    "def simulate_trials(pars, n_trials=1000, max_t=5., dt=.01):\n",
    "    ndt, drift, threshold = pars\n",
    "    t = np.arange(0, max_t, dt)\n",
    "    signal = np.where(t > ndt, drift, 0)\n",
    "    drift = np.cumsum(signal*dt)\n",
    "    noise = np.random.normal(0, .1, (n_trials, len(t)))\n",
    "    diffusion = np.cumsum(noise * np.sqrt(dt), 1)\n",
    "    X = drift + diffusion\n",
    "    return X\n",
    "\n",
    "def X_to_rt(X, pars, max_t=5., dt=.01):\n",
    "    ndt, drift, threshold = pars\n",
    "    t = np.arange(0, max_t, dt)\n",
    "    rt_ix = np.argmax(X > threshold, 1)\n",
    "    rt = t[rt_ix]\n",
    "    rt[rt_ix == 0.] = np.nan    \n",
    "    return rt    \n",
    "\n",
    "def simulate_rts(pars, n_trials=1000, max_t=5., dt=.01):\n",
    "    X = simulate_trials(pars, n_trials=n_trials, max_t=max_t, dt=dt)\n",
    "    return X_to_rt(X, pars, max_t=max_t, dt=dt)\n",
    "\n",
    "def plot_simlations(X, rt, pars, max_t=5., dt=.01):\n",
    "    ndt, drift, threshold = pars\n",
    "    t = np.arange(0, max_t, dt)\n",
    "    fig, axes = plt.subplots(2, 1, figsize=(8, 6), gridspec_kw={'height_ratios':[.5, 1.] });\n",
    "\n",
    "    plt.sca(axes[0])\n",
    "    plt.hist(rt)\n",
    "    plt.xlim(0, 5)\n",
    "    plt.xticks([])\n",
    "    plt.ylabel('RT distribution')\n",
    "\n",
    "    plt.sca(axes[1])\n",
    "    for i in range(len(X)):\n",
    "        plt.plot(t, X[i], 'b', alpha=.1)\n",
    "    plt.hlines(1., 0, 10)\n",
    "    plt.xlim(0, 5)\n",
    "    plt.ylim(-threshold, threshold)\n",
    "    plt.ylabel('Accumulator')\n",
    "    plt.xlabel('Time (s)')\n",
    "\n",
    "    plt.tight_layout()\n",
    "    plt.show()"
   ]
  },
  {
   "cell_type": "code",
   "execution_count": null,
   "metadata": {},
   "outputs": [],
   "source": [
    "# true_pars = [1., 1., .2] # Non-decision time, Drift rate, Noise SD\n",
    "# true_pars = [1, 1., .25] # Non-decision time, Drift rate, Noise SD\n",
    "true_pars = [1, 1., .5] # Non-decision time, Drift rate, Threshold\n",
    "t = np.arange(0, 5, .01)\n",
    "true_X = simulate_trials(true_pars, n_trials=100)\n",
    "true_rts =  X_to_rt(true_X, true_pars)\n",
    "\n",
    "plot_simlations(true_X, true_rts, true_pars)"
   ]
  },
  {
   "cell_type": "code",
   "execution_count": null,
   "metadata": {},
   "outputs": [],
   "source": [
    "\n",
    "\n",
    "# def transform_pars(pars):\n",
    "#     '''Decorrelates pars for fitting'''\n",
    "#     ndt, drift, noise = pars\n",
    "#     a = ndt + drift + noise\n",
    "#     b = drift / a\n",
    "#     c = noise / a\n",
    "#     return a, b, c\n",
    "\n",
    "# def untransform_pars(bayes_pars):\n",
    "#     '''Returns decorrelated parameters to original space'''\n",
    "#     a, b, c = bayes_pars\n",
    "#     noise = a * c\n",
    "#     drift = a * b\n",
    "#     ndt = a - drift - noise\n",
    "#     return ndt, drift, noise\n",
    "# assert(np.all(np.array(untransform_pars(transform_pars(true_pars))) == np.array( true_pars)))\n",
    "\n",
    "def posterior_density(pars, true_rts=true_rts):\n",
    "    ndt, drift, threshold = pars\n",
    "# def posterior_density(bayes_pars, true_rts=true_rts):\n",
    "#     ndt, drift, s2 = pars = untransform_pars(bayes_pars)\n",
    "    ## Normal(0, 10) priors on all parameters\n",
    "    nlpdf = stats.norm.logpdf # Args: x, loc, scale\n",
    "    log_prior = nlpdf(ndt, 0, 10) + nlpdf(drift, 0, 10) + nlpdf(threshold, 0, 10)\n",
    "    if np.any(np.array(pars) < 0):\n",
    "        return -1e+5 + log_prior\n",
    "    ## Simulate from model\n",
    "    sim_rt = simulate_rts(pars, n_trials=200)\n",
    "    ## Use simulated RTs to estimate liklihood of observed rts\n",
    "    p_response = 1 - np.mean(np.isnan(sim_rt)) # Normalising for simulations that don't cross threshold\n",
    "    try:\n",
    "        kernel = stats.kde.gaussian_kde(sim_rt[~np.isnan(sim_rt)], bw_method='silverman')\n",
    "        log_lik = np.sum(kernel.logpdf(true_rts) + np.log(p_response))\n",
    "    except ValueError:\n",
    "        log_lik = -1e+5\n",
    "    if np.isnan(log_lik):\n",
    "        log_lik = -1e+5\n",
    "    # print(repr(pars), log_posterior)\n",
    "    log_posterior = log_prior + log_lik\n",
    "    return log_posterior\n",
    "\n"
   ]
  },
  {
   "cell_type": "code",
   "execution_count": null,
   "metadata": {},
   "outputs": [],
   "source": [
    "posterior_density([2.9497,0.9365,2.1787])"
   ]
  },
  {
   "cell_type": "code",
   "execution_count": null,
   "metadata": {},
   "outputs": [],
   "source": [
    "for i in range(5):\n",
    "    print(posterior_density(true_pars))\n",
    "#     print(posterior_density(transform_pars(true_pars)))"
   ]
  },
  {
   "cell_type": "markdown",
   "metadata": {},
   "source": [
    "## Sample"
   ]
  },
  {
   "cell_type": "code",
   "execution_count": null,
   "metadata": {},
   "outputs": [],
   "source": [
    "def init_func():\n",
    "    while 1:\n",
    "        start = np.random.normal(0, 4, 3)\n",
    "        if posterior_density(start) > -1e+4:\n",
    "            return start\n",
    "sampler = ezmc.MetropolisSampler(func=posterior_density,\n",
    "                                 par_names=['ndt', 'drift', 'threshold'],\n",
    "                                 init_func=init_func,\n",
    "                                proposal_sd=.1)\n"
   ]
  },
  {
   "cell_type": "code",
   "execution_count": null,
   "metadata": {},
   "outputs": [],
   "source": [
    "# sampler.proposal_sd = np.ones(3) * .01"
   ]
  },
  {
   "cell_type": "code",
   "execution_count": null,
   "metadata": {},
   "outputs": [],
   "source": [
    "sampler.sample_chains(nchains=4, n=500)"
   ]
  },
  {
   "cell_type": "code",
   "execution_count": null,
   "metadata": {},
   "outputs": [],
   "source": [
    "print(true_pars)\n",
    "for ch in sampler.chains:\n",
    "    print(ch.values, ch.cur_ll, ch.iterations)"
   ]
  },
  {
   "cell_type": "code",
   "execution_count": null,
   "metadata": {},
   "outputs": [],
   "source": [
    "chains = sampler.get_chains()\n",
    "fig = ezmc.viz.traceplot(chains);\n",
    "# for ax in fig.get_axes():\n",
    "#     ax.set_ylim(-5, 5)\n",
    "# plt.ylim(-5, 5)"
   ]
  },
  {
   "cell_type": "code",
   "execution_count": null,
   "metadata": {},
   "outputs": [],
   "source": [
    "ezmc.viz.traceplot(chains, ['ll']);\n",
    "plt.ylim(-200, 100)"
   ]
  },
  {
   "cell_type": "code",
   "execution_count": null,
   "metadata": {},
   "outputs": [],
   "source": [
    "results = sampler.get_results(burn_in=2000, thin=10)"
   ]
  },
  {
   "cell_type": "code",
   "execution_count": null,
   "metadata": {},
   "outputs": [],
   "source": [
    "fig = ezmc.viz.traceplot(results, sampler.par_names);"
   ]
  },
  {
   "cell_type": "code",
   "execution_count": null,
   "metadata": {},
   "outputs": [],
   "source": [
    "estimates = results.mean()\n",
    "# trans_est_pars = [estimates[p] for p in sampler.par_names]\n",
    "# est_pars = untransform_pars(trans_est_pars)\n",
    "est_pars = [estimates[p] for p in sampler.par_names]\n",
    "est_pars"
   ]
  },
  {
   "cell_type": "code",
   "execution_count": null,
   "metadata": {},
   "outputs": [],
   "source": [
    "sns.pairplot(results[sampler.par_names + ['ll']])"
   ]
  },
  {
   "cell_type": "code",
   "execution_count": null,
   "metadata": {},
   "outputs": [],
   "source": [
    "good = results[results['ll'] > -100]\n",
    "sns.pairplot(good[sampler.par_names + ['ll']])"
   ]
  },
  {
   "cell_type": "code",
   "execution_count": null,
   "metadata": {},
   "outputs": [],
   "source": [
    "t = np.arange(0, 5, .01)\n",
    "best_X = simulate_trials(est_pars, n_trials=100)\n",
    "best_rts =  X_to_rt(best_X, est_pars)\n",
    "\n",
    "plot_simlations(best_X, best_rts, est_pars)"
   ]
  },
  {
   "cell_type": "code",
   "execution_count": null,
   "metadata": {},
   "outputs": [],
   "source": [
    "plot_simlations(true_X, true_rts, true_pars)"
   ]
  },
  {
   "cell_type": "code",
   "execution_count": null,
   "metadata": {},
   "outputs": [],
   "source": []
  },
  {
   "cell_type": "code",
   "execution_count": null,
   "metadata": {},
   "outputs": [],
   "source": [
    "\n",
    "\n",
    "\n",
    "chains = demc_sampler.get_chains()\n",
    "ezmc.viz.traceplot(chains)\n",
    "\n",
    "results = demc_sampler.get_results(burn_in=500, thin=50)\n",
    "ezmc.viz.traceplot(results, pars=['θ1', 'θ2'])\n",
    "\n",
    "\n",
    "fig, axes = plt.subplots(1, 2, figsize=(8, 4))\n",
    "plt.sca(axes[0])\n",
    "setup_axes(newfigure=False)\n",
    "plt.scatter(true_posterior[0], true_posterior[1], alpha=.5)\n",
    "plt.title('Direct samples')\n",
    "\n",
    "plt.sca(axes[1])\n",
    "setup_axes(newfigure=False)\n",
    "plt.scatter(results['θ1'], results['θ2'], alpha=.5, color='g')\n",
    "plt.title('MCMC samples')\n",
    "plt.tight_layout()\n",
    "plt.show()\n",
    "\n",
    "\n",
    "print('Means')\n",
    "print(results.mean())\n",
    "print('\\nSDs')\n",
    "print(results.std())\n",
    "print('\\nCorr: %.2f' % np.corrcoef(results['θ1'], results['θ2'])[0,1])"
   ]
  },
  {
   "cell_type": "code",
   "execution_count": null,
   "metadata": {},
   "outputs": [],
   "source": [
    "true_posterior = sample_true(1000).T\n",
    "plt.scatter(true_posterior[0], true_posterior[1])"
   ]
  },
  {
   "cell_type": "markdown",
   "metadata": {},
   "source": [
    "# DEMC"
   ]
  },
  {
   "cell_type": "code",
   "execution_count": null,
   "metadata": {},
   "outputs": [],
   "source": [
    "# ezmc.DifferentialEvolutionSampler?"
   ]
  },
  {
   "cell_type": "code",
   "execution_count": null,
   "metadata": {},
   "outputs": [],
   "source": [
    "m = ezmc.DifferentialEvolutionSampler(func=f, \n",
    "                                      par_names=['a', 'b'],\n",
    "                                     init_bounds=[[-10, 10],\n",
    "                                                 [-10, 10]])"
   ]
  },
  {
   "cell_type": "code",
   "execution_count": null,
   "metadata": {},
   "outputs": [],
   "source": [
    "m.sample_chains(nchains=10, n=20000, verbose=1)"
   ]
  },
  {
   "cell_type": "code",
   "execution_count": null,
   "metadata": {},
   "outputs": [],
   "source": [
    "chains = m.get_chains()\n",
    "ezmc.viz.traceplot(chains)"
   ]
  },
  {
   "cell_type": "code",
   "execution_count": null,
   "metadata": {},
   "outputs": [],
   "source": [
    "results = m.get_results(burn_in=500, thin=20)\n",
    "ezmc.viz.traceplot(results, ['a', 'b'])"
   ]
  },
  {
   "cell_type": "code",
   "execution_count": null,
   "metadata": {},
   "outputs": [],
   "source": [
    "plt.scatter(results['a'], results['b'])"
   ]
  },
  {
   "cell_type": "code",
   "execution_count": null,
   "metadata": {},
   "outputs": [],
   "source": [
    "print(np.mean(true_posterior, 1), np.std(true_posterior, 1), np.corrcoef(true_posterior)[0,1])"
   ]
  },
  {
   "cell_type": "code",
   "execution_count": null,
   "metadata": {},
   "outputs": [],
   "source": [
    "a = results[['a', 'b']].values.T\n",
    "print(np.mean(a, 1), np.std(a, 1), np.corrcoef(a)[0,1])"
   ]
  },
  {
   "cell_type": "code",
   "execution_count": null,
   "metadata": {},
   "outputs": [],
   "source": [
    "def kde_countour(x, y, colors='k'):\n",
    "    deltaX = (max(x) - min(x))/10\n",
    "    deltaY = (max(y) - min(y))/10\n",
    "    xmin = min(x) - deltaX\n",
    "    xmax = max(x) + deltaX\n",
    "    ymin = min(y) - deltaY\n",
    "    ymax = max(y) + deltaY\n",
    "    xx, yy = np.mgrid[xmin:xmax:100j, ymin:ymax:100j]\n",
    "    positions = np.vstack([xx.ravel(), yy.ravel()])\n",
    "    values = np.vstack([x, y])\n",
    "    kernel = stats.gaussian_kde(values)\n",
    "    f = np.reshape(kernel(positions).T, xx.shape)\n",
    "    cset = plt.contour(xx, yy, f, colors=colors)\n",
    "    \n",
    "kde_countour(results['a'], results['b'], colors='red')\n",
    "kde_countour(p[0], p[1], colors='blue')"
   ]
  },
  {
   "cell_type": "code",
   "execution_count": null,
   "metadata": {},
   "outputs": [],
   "source": []
  },
  {
   "cell_type": "code",
   "execution_count": null,
   "metadata": {},
   "outputs": [],
   "source": [
    "np.sin(p[0, 0], p[1, 0])"
   ]
  },
  {
   "cell_type": "code",
   "execution_count": null,
   "metadata": {},
   "outputs": [],
   "source": [
    "from statsmodels.graphics.tsaplots import plot_acf\n",
    "plot_acf(results['a']);"
   ]
  },
  {
   "cell_type": "code",
   "execution_count": null,
   "metadata": {},
   "outputs": [],
   "source": []
  },
  {
   "cell_type": "code",
   "execution_count": null,
   "metadata": {},
   "outputs": [],
   "source": []
  },
  {
   "cell_type": "code",
   "execution_count": null,
   "metadata": {},
   "outputs": [],
   "source": [
    "ezmc.viz.traceplot(results, ['ll'])"
   ]
  },
  {
   "cell_type": "code",
   "execution_count": null,
   "metadata": {},
   "outputs": [],
   "source": [
    "raise Exception"
   ]
  },
  {
   "cell_type": "markdown",
   "metadata": {},
   "source": [
    "# Multiple Chains"
   ]
  },
  {
   "cell_type": "code",
   "execution_count": null,
   "metadata": {},
   "outputs": [],
   "source": [
    "m = ezmc.MetropolisSampler(func=f, par_names=['a', 'b'], proposal_sd=[.25, .25], init_func=init_func)\n",
    "m.sample_chains(4, n=3000, verbose=0)"
   ]
  },
  {
   "cell_type": "code",
   "execution_count": null,
   "metadata": {},
   "outputs": [],
   "source": [
    "chains = m.get_chains()"
   ]
  },
  {
   "cell_type": "code",
   "execution_count": null,
   "metadata": {},
   "outputs": [],
   "source": [
    "ezmc.viz.traceplot(chains, ['a', 'b'])"
   ]
  },
  {
   "cell_type": "code",
   "execution_count": null,
   "metadata": {},
   "outputs": [],
   "source": [
    "results = m.get_results(burn_in=500, thin=2)"
   ]
  },
  {
   "cell_type": "code",
   "execution_count": null,
   "metadata": {},
   "outputs": [],
   "source": [
    "traceplot(results)"
   ]
  },
  {
   "cell_type": "code",
   "execution_count": null,
   "metadata": {},
   "outputs": [],
   "source": [
    "results.mean()"
   ]
  },
  {
   "cell_type": "code",
   "execution_count": null,
   "metadata": {},
   "outputs": [],
   "source": [
    "results.std()"
   ]
  },
  {
   "cell_type": "markdown",
   "metadata": {},
   "source": [
    "# One Chain"
   ]
  },
  {
   "cell_type": "code",
   "execution_count": null,
   "metadata": {},
   "outputs": [],
   "source": [
    "m = ezmc.MetropolisSampler(func=f, par_names=['a', 'b'], proposal_sd=[.25, .25], init_func=init_func)\n",
    "m.add_chains(1)"
   ]
  },
  {
   "cell_type": "code",
   "execution_count": null,
   "metadata": {},
   "outputs": [],
   "source": [
    "m.sample_chain(chain_ix=0, n=100)"
   ]
  },
  {
   "cell_type": "code",
   "execution_count": null,
   "metadata": {},
   "outputs": [],
   "source": [
    "chains = m.chains[0].get_results(burn_in=0, thin=1)\n",
    "chains[['a', 'b']].plot()"
   ]
  },
  {
   "cell_type": "code",
   "execution_count": null,
   "metadata": {},
   "outputs": [],
   "source": [
    "results = m.chains[0].get_results(burn_in=2000, thin=10)\n",
    "results.head()\n",
    "results[['a', 'b']].hist(bins=10)"
   ]
  },
  {
   "cell_type": "code",
   "execution_count": null,
   "metadata": {},
   "outputs": [],
   "source": [
    "print(results.mean())\n",
    "print(results.std())"
   ]
  },
  {
   "cell_type": "code",
   "execution_count": null,
   "metadata": {},
   "outputs": [],
   "source": [
    "plt.scatter(results['a'], results['ll'])"
   ]
  },
  {
   "cell_type": "code",
   "execution_count": null,
   "metadata": {},
   "outputs": [],
   "source": [
    "plt.scatter(results['b'], results['ll'])"
   ]
  },
  {
   "cell_type": "code",
   "execution_count": null,
   "metadata": {},
   "outputs": [],
   "source": [
    "stats.pearsonr(results['a'], results['b'])"
   ]
  },
  {
   "cell_type": "code",
   "execution_count": null,
   "metadata": {},
   "outputs": [],
   "source": [
    "plt.scatter(results['a'], results['b'])"
   ]
  },
  {
   "cell_type": "code",
   "execution_count": null,
   "metadata": {},
   "outputs": [],
   "source": [
    "chains['ll'].plot()"
   ]
  },
  {
   "cell_type": "code",
   "execution_count": null,
   "metadata": {},
   "outputs": [],
   "source": []
  },
  {
   "cell_type": "code",
   "execution_count": null,
   "metadata": {},
   "outputs": [],
   "source": [
    "m = ezmc.MetropolisSampler"
   ]
  },
  {
   "cell_type": "code",
   "execution_count": null,
   "metadata": {},
   "outputs": [],
   "source": [
    "chain.chain"
   ]
  }
 ],
 "metadata": {
  "kernelspec": {
   "display_name": "Python 3",
   "language": "python",
   "name": "python3"
  },
  "language_info": {
   "codemirror_mode": {
    "name": "ipython",
    "version": 3
   },
   "file_extension": ".py",
   "mimetype": "text/x-python",
   "name": "python",
   "nbconvert_exporter": "python",
   "pygments_lexer": "ipython3",
   "version": "3.7.3"
  }
 },
 "nbformat": 4,
 "nbformat_minor": 2
}
