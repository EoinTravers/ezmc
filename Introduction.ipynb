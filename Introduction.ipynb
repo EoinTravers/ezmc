{
 "cells": [
  {
   "cell_type": "code",
   "execution_count": null,
   "metadata": {},
   "outputs": [],
   "source": [
    "import numpy as np\n",
    "import pandas as pd\n",
    "import matplotlib.pyplot as plt\n",
    "from scipy import stats\n",
    "from sys import stdout"
   ]
  },
  {
   "cell_type": "markdown",
   "metadata": {},
   "source": [
    "# EZMC: Easy-Peasy MCMC\n",
    "\n",
    "EZMC provides a simple interface to Markov Chain Monte Carlo algorithms for Bayesian inference.\n",
    "\n",
    "It is\n",
    "\n",
    "- Simple. It's written in pure python, with few dependencies.\n",
    "- Easy to use.\n",
    "- Flexible. \n",
    "  - All you have to do is write a function that takes parameter values as inputs, and returns log posterior densities.\n",
    "  - It also works with noisy functions, like when you need to simulate data from a computational model.\n",
    "- Extendable. New MCMC algorithms can be implemented by overwriting methods (e.g. `propose()`, `eval_proposal()`) of generic ones.\n",
    "\n",
    "It's also\n",
    "\n",
    "- Slow. EZMC doesn't use the likes of Theano or TensorFlow as a backend. This means that it's much simpler to plug in your own posterior density functions, but also means it isn't nearly as fast as packages like [PyMC3]().\n",
    "- A work in progress. There's lots of room for immprovement!\n",
    "\n",
    "Check out [github.com/Gabriel-p/pythonMCMC](https://github.com/Gabriel-p/pythonMCMC) for a great list of other python MCMC samplers.\n",
    "\n"
   ]
  },
  {
   "cell_type": "code",
   "execution_count": null,
   "metadata": {},
   "outputs": [],
   "source": [
    "## Reload stuff\n",
    "from importlib import reload\n",
    "import ezmc\n",
    "import ezmc\n",
    "reload(ezmc)\n"
   ]
  },
  {
   "cell_type": "markdown",
   "metadata": {},
   "source": [
    "## Simple Example\n",
    "\n",
    "Let's start with the simplest example.\n",
    "Say the posterior distribution we wish to sample from is just a standard 2-d Gaussian:\n",
    "\n",
    "$$\n",
    "\\theta \\sim Normal(\\mu, \\Sigma);\\\\\n",
    "\\mu = \\begin{bmatrix}0 & 0\\end{bmatrix};\n",
    "\\Sigma = \\begin{bmatrix}1 & 0 \\\\ 0 & 1\\end{bmatrix};\n",
    "$$\n",
    "\n",
    "We can actually sample directly from this distribution, for comparision"
   ]
  },
  {
   "cell_type": "code",
   "execution_count": null,
   "metadata": {},
   "outputs": [],
   "source": [
    "def sample_true(n):\n",
    "    dist = stats.multivariate_normal(mean=[0, 0], cov=[[1,0], [0, 1]])\n",
    "    return dist.rvs(n).T\n",
    "true_posterior = sample_true(1000)\n",
    "true_posterior.mean(1).round(2), true_posterior.std(1).round(2)"
   ]
  },
  {
   "cell_type": "code",
   "execution_count": null,
   "metadata": {},
   "outputs": [],
   "source": [
    "def setup_axes(newfigure=True):\n",
    "    if newfigure:\n",
    "        fig = plt.figure(figsize=(4,4))\n",
    "    plt.xlabel('$θ_1$')\n",
    "    plt.ylabel('$θ_2$')\n",
    "    plt.xlim(-5, 5)\n",
    "    plt.ylim(-5, 5)\n",
    "\n",
    "setup_axes()\n",
    "plt.scatter(true_posterior[0], true_posterior[1], alpha=.5)"
   ]
  },
  {
   "cell_type": "markdown",
   "metadata": {},
   "source": [
    "To sample from this distribution using EZMC, we need to write two functions.\n",
    "The postererior density function taskes an array of parameters as an input \n",
    "(in this case, an array of length 2) \n",
    "and returns the log-likelihood as an output.\n",
    "The initialisation function just returns random starting values for the sampler."
   ]
  },
  {
   "cell_type": "code",
   "execution_count": null,
   "metadata": {},
   "outputs": [],
   "source": [
    "def posterior_density(x):\n",
    "    dist = stats.multivariate_normal(mean=[0, 0], cov=[[1,0], [0, 1]])\n",
    "    return dist.logpdf(x)\n",
    "\n",
    "## In this case, could also use\n",
    "# def posterior_density(x):\n",
    "#     a, b = x\n",
    "#     return stats.norm.logpdf(a, 0, 1) + stats.norm.logpdf(b, 0, 1)\n",
    "\n",
    "def initialise():\n",
    "    return np.random.normal(0, 5, 2)"
   ]
  },
  {
   "cell_type": "markdown",
   "metadata": {},
   "source": [
    "## Metropolis Sampler"
   ]
  },
  {
   "cell_type": "markdown",
   "metadata": {},
   "source": [
    "Next, we create our sampler.\n",
    "For the Metropolis algorithm, we also need to specify the standard deviation of the proposal distribution \n",
    "(more on this later)."
   ]
  },
  {
   "cell_type": "code",
   "execution_count": null,
   "metadata": {},
   "outputs": [],
   "source": [
    "proposal_sd = [.25, .25]\n",
    "sampler = ezmc.MetropolisSampler(func=posterior_density, \n",
    "                                 par_names=['θ1', 'θ2'], \n",
    "                                 proposal_sd=proposal_sd, init_func=initialise,)\n",
    "sampler"
   ]
  },
  {
   "cell_type": "markdown",
   "metadata": {},
   "source": [
    "Finally, we'll run 4 chains, with 500 steps each to begin"
   ]
  },
  {
   "cell_type": "code",
   "execution_count": null,
   "metadata": {},
   "outputs": [],
   "source": [
    "sampler.sample_chains(n=500)"
   ]
  },
  {
   "cell_type": "code",
   "execution_count": null,
   "metadata": {},
   "outputs": [],
   "source": [
    "chains = sampler.get_chains()\n",
    "ezmc.viz.traceplot(chains)\n",
    "plt.show()"
   ]
  },
  {
   "cell_type": "markdown",
   "metadata": {},
   "source": [
    "It looks like the chains haven't converged yet, so let's run some more samples.\n",
    "New samples are automatically appended to the end of the existing chains."
   ]
  },
  {
   "cell_type": "code",
   "execution_count": null,
   "metadata": {},
   "outputs": [],
   "source": [
    "sampler.sample_chains(n=2000)\n",
    "chains = sampler.get_chains()\n",
    "ezmc.viz.traceplot(chains)"
   ]
  },
  {
   "cell_type": "markdown",
   "metadata": {},
   "source": [
    "Now that the sampler has converged, we can discard the pre-convergence samples, and thin the samples that remain to reduce autocorrelations. These are our samples from the posterior distribution."
   ]
  },
  {
   "cell_type": "code",
   "execution_count": null,
   "metadata": {},
   "outputs": [],
   "source": [
    "results = sampler.get_results(burn_in=2000, thin=10)\n",
    "ezmc.viz.traceplot(results, pars=['θ1', 'θ2'])"
   ]
  },
  {
   "cell_type": "code",
   "execution_count": null,
   "metadata": {},
   "outputs": [],
   "source": [
    "fig, axes = plt.subplots(1, 2, figsize=(8, 4))\n",
    "plt.sca(axes[0])\n",
    "setup_axes(newfigure=False)\n",
    "plt.scatter(true_posterior[0], true_posterior[1], alpha=.5)\n",
    "plt.title('Direct samples')\n",
    "\n",
    "plt.sca(axes[1])\n",
    "setup_axes(newfigure=False)\n",
    "plt.scatter(results['θ1'], results['θ2'], alpha=.5, color='g')\n",
    "plt.title('MCMC samples')\n",
    "plt.tight_layout()\n",
    "plt.show()\n"
   ]
  },
  {
   "cell_type": "markdown",
   "metadata": {},
   "source": [
    "`.get_results()` and `.get_chains()` return Pandas data frames,\n",
    "so we can work with them as we please."
   ]
  },
  {
   "cell_type": "code",
   "execution_count": null,
   "metadata": {},
   "outputs": [],
   "source": [
    "results.head()"
   ]
  },
  {
   "cell_type": "code",
   "execution_count": null,
   "metadata": {},
   "outputs": [],
   "source": [
    "results.mean()"
   ]
  },
  {
   "cell_type": "code",
   "execution_count": null,
   "metadata": {},
   "outputs": [],
   "source": [
    "results.std()"
   ]
  },
  {
   "cell_type": "markdown",
   "metadata": {},
   "source": [
    "Future versions of EZMC will include convenience functions for posterior summaries."
   ]
  },
  {
   "cell_type": "markdown",
   "metadata": {},
   "source": [
    "## Differential Evolution\n",
    "\n",
    "EZMC also includes an implementation of the Differential Evolution Monte Carlo sampler (DEMC) [**references**].\n",
    "This sampler can be more effective when sampling from distributions with strong correlations between parameters,\n",
    "as is often the case in cognitive models, for instance.\n",
    "The Metropolis algorith can be slow to sample from these distributions. \n",
    "DEMC also doesn't require tuning of the proposal SD.\n",
    "\n",
    "Let's try to sample from a distribution with strong correlations."
   ]
  },
  {
   "cell_type": "code",
   "execution_count": null,
   "metadata": {},
   "outputs": [],
   "source": [
    "def sample_true(n):\n",
    "    dist = stats.multivariate_normal(mean=[0, 0], cov=[[1, .9], [.9, 1]])\n",
    "    return dist.rvs(n).T\n",
    "\n",
    "def posterior_density(x):\n",
    "    dist = stats.multivariate_normal(mean=[0, 0], cov=[[1, .9], [.9, 1]])\n",
    "    return dist.logpdf(x)\n",
    "\n",
    "true_posterior = sample_true(1000)\n",
    "print(true_posterior.mean(1).round(2), true_posterior.std(1).round(2))\n",
    "\n",
    "setup_axes()\n",
    "plt.scatter(true_posterior[0], true_posterior[1], alpha=.5)\n",
    "plt.show()"
   ]
  },
  {
   "cell_type": "markdown",
   "metadata": {},
   "source": [
    "DEMC does require that we set bounds on each parameter.\n",
    "The sampler initialises a large number of chains at random values between these bounds,\n",
    "and gradually homes in on the high-density regions of the posterior.\n",
    "Generally, these bounds should be very wide around plausible parameter values."
   ]
  },
  {
   "cell_type": "code",
   "execution_count": null,
   "metadata": {},
   "outputs": [],
   "source": [
    "reload(ezmc)\n",
    "reload(ezmc.demc)"
   ]
  },
  {
   "cell_type": "code",
   "execution_count": null,
   "metadata": {},
   "outputs": [],
   "source": [
    "bounds = [[-20, 20],\n",
    "          [-20, 20]]\n",
    "demc_sampler = ezmc.DifferentialEvolutionSampler(func=posterior_density,\n",
    "                                                 par_names=['θ1', 'θ2'],\n",
    "                                                 n_chains=20,\n",
    "                                                 init_bounds=bounds)\n",
    "# demc_sampler.sample_chains(n=2000)"
   ]
  },
  {
   "cell_type": "code",
   "execution_count": null,
   "metadata": {},
   "outputs": [],
   "source": [
    "demc_sampler.sample_chains(5000)"
   ]
  },
  {
   "cell_type": "code",
   "execution_count": null,
   "metadata": {},
   "outputs": [],
   "source": [
    "chains = demc_sampler.get_chains()\n",
    "ezmc.viz.traceplot(chains);"
   ]
  },
  {
   "cell_type": "code",
   "execution_count": null,
   "metadata": {},
   "outputs": [],
   "source": [
    "results = demc_sampler.get_results(burn_in=500, thin=50)\n",
    "ezmc.viz.traceplot(results, pars=['θ1', 'θ2']);\n"
   ]
  },
  {
   "cell_type": "code",
   "execution_count": null,
   "metadata": {},
   "outputs": [],
   "source": [
    "fig, axes = plt.subplots(1, 2, figsize=(8, 4))\n",
    "plt.sca(axes[0])\n",
    "setup_axes(newfigure=False)\n",
    "plt.scatter(true_posterior[0], true_posterior[1], alpha=.5)\n",
    "plt.title('Direct samples')\n",
    "\n",
    "plt.sca(axes[1])\n",
    "setup_axes(newfigure=False)\n",
    "plt.scatter(results['θ1'], results['θ2'], alpha=.5, color='g')\n",
    "plt.title('MCMC samples')\n",
    "plt.tight_layout()\n",
    "plt.show()\n"
   ]
  },
  {
   "cell_type": "code",
   "execution_count": null,
   "metadata": {},
   "outputs": [],
   "source": [
    "print('Means')\n",
    "print(results.mean())\n",
    "print('\\nSDs')\n",
    "print(results.std())\n",
    "print('\\nCorr: %.2f' % np.corrcoef(results['θ1'], results['θ2'])[0,1])"
   ]
  },
  {
   "cell_type": "markdown",
   "metadata": {},
   "source": [
    "# Cognitive Modelling"
   ]
  },
  {
   "cell_type": "markdown",
   "metadata": {},
   "source": [
    "Let's work through a more realistic example.\n"
   ]
  },
  {
   "cell_type": "code",
   "execution_count": null,
   "metadata": {},
   "outputs": [],
   "source": [
    "def simulate_trials(pars, n_trials=1000, max_t=10., dt=.001):\n",
    "    ndt, drift, s2 = pars\n",
    "    threshold = 1.\n",
    "    t = np.arange(0, max_t, dt)\n",
    "    signal = np.where(t > ndt, drift, 0)\n",
    "    drift = np.cumsum(signal*dt)\n",
    "    noise = np.random.normal(0, s2, (n_trials, len(t)))\n",
    "    diffusion = np.cumsum(noise * np.sqrt(dt), 1)\n",
    "    X = drift + diffusion\n",
    "    return X\n",
    "\n",
    "def X_to_rt(X, threshold=1., max_t=10., dt=.001):\n",
    "    t = np.arange(0, max_t, dt)\n",
    "    rt_ix = np.argmax(X > threshold, 1)\n",
    "    rt = t[rt_ix]\n",
    "    rt[rt_ix == 0.] = np.nan    \n",
    "    return rt    \n",
    "\n",
    "def simulate_rts(pars, n_trials=1000, max_t=10., dt=.001):\n",
    "    threshold = 1.\n",
    "    X = simulate_trials(pars, n_trials=n_trials, max_t=max_t, dt=dt)\n",
    "    return X_to_rt(X, max_t=max_t, dt=dt)\n",
    "\n",
    "def plot_simlations(X, rt, max_t=10., dt=.001):\n",
    "    t = np.arange(0, max_t, dt)    \n",
    "    fig, axes = plt.subplots(2, 1, figsize=(8, 6), gridspec_kw={'height_ratios':[.5, 1.] });\n",
    "\n",
    "    plt.sca(axes[0])\n",
    "    plt.hist(rt)\n",
    "    plt.xlim(0, 5)\n",
    "    plt.xticks([])\n",
    "    plt.ylabel('RT distribution')\n",
    "\n",
    "    plt.sca(axes[1])\n",
    "    for i in range(len(X)):\n",
    "        plt.plot(t, X[i], 'b', alpha=.1)\n",
    "    plt.hlines(1., 0, 10)\n",
    "    plt.xlim(0, 5)\n",
    "    plt.ylim(-1, 1)\n",
    "    plt.ylabel('Accumulator')\n",
    "    plt.xlabel('Time (s)')\n",
    "\n",
    "    plt.tight_layout()\n",
    "    plt.show()"
   ]
  },
  {
   "cell_type": "code",
   "execution_count": null,
   "metadata": {},
   "outputs": [],
   "source": [
    "true_pars = [1., 2., .2] # Non-decision time, Drift rate, Noise SD\n",
    "t = np.arange(0, 10, .001)\n",
    "true_X = simulate_trials(true_pars, n_trials=300)\n",
    "true_rts =  X_to_rt(true_X)\n",
    "\n",
    "plot_simlations(true_X, true_rts)"
   ]
  },
  {
   "cell_type": "code",
   "execution_count": null,
   "metadata": {},
   "outputs": [],
   "source": [
    "def posterior_density(pars, true_rts=true_rts):\n",
    "    ndt, drift, s2 = pars\n",
    "    if ndt < 0 or s2 < 0:\n",
    "        return -1e+16\n",
    "    ## Normal(0, 100) priors on all parameters\n",
    "    nlpdf = stats.norm.logpdf\n",
    "    log_prior = nlpdf(0, 100, ndt) + nlpdf(0, 100, drift) + nlpdf(0, 100, s2)\n",
    "    ## Simulate from model\n",
    "    sim_rt = simulate_rts(pars, n_trials=1000)\n",
    "    ## Use simulated RTs to estimate liklihood of observed rts\n",
    "    p_response = 1 - np.mean(np.isnan(sim_rt)) # Normalising for simulations that don't cross threshold\n",
    "    if p_response < .5:\n",
    "        return -1e+16\n",
    "    kernel = stats.kde.gaussian_kde(sim_rt[~np.isnan(sim_rt)], bw_method='silverman')\n",
    "    log_lik = np.sum(kernel.logpdf(true_rts)) + np.log(p_response)\n",
    "    log_posterior = log_prior + log_lik\n",
    "    # print(repr(pars), log_posterior)\n",
    "    if np.isnan(log_posterior):\n",
    "        return -1e+16\n",
    "    return log_posterior\n",
    "\n",
    "posterior_density(true_pars)"
   ]
  },
  {
   "cell_type": "code",
   "execution_count": null,
   "metadata": {},
   "outputs": [],
   "source": [
    "# posterior_density([3.62982798, 4.05647564, 1.90074922])"
   ]
  },
  {
   "cell_type": "code",
   "execution_count": null,
   "metadata": {},
   "outputs": [],
   "source": [
    "## Reload stuff\n",
    "from importlib import reload\n",
    "import ezmc\n",
    "reload(ezmc)\n",
    "reload(ezmc.base)\n",
    "reload(ezmc.samplers)\n",
    "reload(ezmc.utils)\n",
    "import ezmc\n"
   ]
  },
  {
   "cell_type": "code",
   "execution_count": null,
   "metadata": {},
   "outputs": [],
   "source": [
    "bounds = [[0, 5],\n",
    "          [0, 10],\n",
    "          [0, 2]]\n",
    "sampler = ezmc.DifferentialEvolutionSampler(func=posterior_density,\n",
    "                                                 par_names=['ndt', 'drift', 'noise'],\n",
    "                                                 init_bounds=bounds)\n",
    "\n"
   ]
  },
  {
   "cell_type": "code",
   "execution_count": null,
   "metadata": {},
   "outputs": [],
   "source": [
    "sampler.sample_chains(nchains=10, n=1)"
   ]
  },
  {
   "cell_type": "code",
   "execution_count": null,
   "metadata": {},
   "outputs": [],
   "source": [
    "chains = sampler.get_chains()\n",
    "traceplot(chains, ['ll'])\n",
    "plt.ylim(-4000, 1)"
   ]
  },
  {
   "cell_type": "code",
   "execution_count": null,
   "metadata": {},
   "outputs": [],
   "source": [
    "chains[chains['chain']==2]['ll'].plot()"
   ]
  },
  {
   "cell_type": "code",
   "execution_count": null,
   "metadata": {},
   "outputs": [],
   "source": [
    "sampler.sample_chains(nchains=10, n=200)"
   ]
  },
  {
   "cell_type": "code",
   "execution_count": null,
   "metadata": {},
   "outputs": [],
   "source": []
  },
  {
   "cell_type": "code",
   "execution_count": null,
   "metadata": {},
   "outputs": [],
   "source": []
  },
  {
   "cell_type": "code",
   "execution_count": null,
   "metadata": {},
   "outputs": [],
   "source": [
    "\n",
    "\n",
    "\n",
    "chains = demc_sampler.get_chains()\n",
    "ezmc.viz.traceplot(chains)\n",
    "\n",
    "results = demc_sampler.get_results(burn_in=500, thin=50)\n",
    "ezmc.viz.traceplot(results, pars=['θ1', 'θ2'])\n",
    "\n",
    "\n",
    "fig, axes = plt.subplots(1, 2, figsize=(8, 4))\n",
    "plt.sca(axes[0])\n",
    "setup_axes(newfigure=False)\n",
    "plt.scatter(true_posterior[0], true_posterior[1], alpha=.5)\n",
    "plt.title('Direct samples')\n",
    "\n",
    "plt.sca(axes[1])\n",
    "setup_axes(newfigure=False)\n",
    "plt.scatter(results['θ1'], results['θ2'], alpha=.5, color='g')\n",
    "plt.title('MCMC samples')\n",
    "plt.tight_layout()\n",
    "plt.show()\n",
    "\n",
    "\n",
    "print('Means')\n",
    "print(results.mean())\n",
    "print('\\nSDs')\n",
    "print(results.std())\n",
    "print('\\nCorr: %.2f' % np.corrcoef(results['θ1'], results['θ2'])[0,1])"
   ]
  },
  {
   "cell_type": "code",
   "execution_count": null,
   "metadata": {},
   "outputs": [],
   "source": [
    "true_posterior = sample_true(1000).T\n",
    "plt.scatter(true_posterior[0], true_posterior[1])"
   ]
  },
  {
   "cell_type": "markdown",
   "metadata": {},
   "source": [
    "# DEMC"
   ]
  },
  {
   "cell_type": "code",
   "execution_count": null,
   "metadata": {},
   "outputs": [],
   "source": [
    "# ezmc.DifferentialEvolutionSampler?"
   ]
  },
  {
   "cell_type": "code",
   "execution_count": null,
   "metadata": {},
   "outputs": [],
   "source": [
    "m = ezmc.DifferentialEvolutionSampler(func=f, \n",
    "                                      par_names=['a', 'b'],\n",
    "                                     init_bounds=[[-10, 10],\n",
    "                                                 [-10, 10]])"
   ]
  },
  {
   "cell_type": "code",
   "execution_count": null,
   "metadata": {},
   "outputs": [],
   "source": [
    "m.sample_chains(nchains=10, n=20000, verbose=1)"
   ]
  },
  {
   "cell_type": "code",
   "execution_count": null,
   "metadata": {},
   "outputs": [],
   "source": [
    "chains = m.get_chains()\n",
    "ezmc.viz.traceplot(chains)"
   ]
  },
  {
   "cell_type": "code",
   "execution_count": null,
   "metadata": {},
   "outputs": [],
   "source": [
    "results = m.get_results(burn_in=500, thin=20)\n",
    "ezmc.viz.traceplot(results, ['a', 'b'])"
   ]
  },
  {
   "cell_type": "code",
   "execution_count": null,
   "metadata": {},
   "outputs": [],
   "source": [
    "plt.scatter(results['a'], results['b'])"
   ]
  },
  {
   "cell_type": "code",
   "execution_count": null,
   "metadata": {},
   "outputs": [],
   "source": [
    "print(np.mean(true_posterior, 1), np.std(true_posterior, 1), np.corrcoef(true_posterior)[0,1])"
   ]
  },
  {
   "cell_type": "code",
   "execution_count": null,
   "metadata": {},
   "outputs": [],
   "source": [
    "a = results[['a', 'b']].values.T\n",
    "print(np.mean(a, 1), np.std(a, 1), np.corrcoef(a)[0,1])"
   ]
  },
  {
   "cell_type": "code",
   "execution_count": null,
   "metadata": {},
   "outputs": [],
   "source": [
    "def kde_countour(x, y, colors='k'):\n",
    "    deltaX = (max(x) - min(x))/10\n",
    "    deltaY = (max(y) - min(y))/10\n",
    "    xmin = min(x) - deltaX\n",
    "    xmax = max(x) + deltaX\n",
    "    ymin = min(y) - deltaY\n",
    "    ymax = max(y) + deltaY\n",
    "    xx, yy = np.mgrid[xmin:xmax:100j, ymin:ymax:100j]\n",
    "    positions = np.vstack([xx.ravel(), yy.ravel()])\n",
    "    values = np.vstack([x, y])\n",
    "    kernel = stats.gaussian_kde(values)\n",
    "    f = np.reshape(kernel(positions).T, xx.shape)\n",
    "    cset = plt.contour(xx, yy, f, colors=colors)\n",
    "    \n",
    "kde_countour(results['a'], results['b'], colors='red')\n",
    "kde_countour(p[0], p[1], colors='blue')"
   ]
  },
  {
   "cell_type": "code",
   "execution_count": null,
   "metadata": {},
   "outputs": [],
   "source": []
  },
  {
   "cell_type": "code",
   "execution_count": null,
   "metadata": {},
   "outputs": [],
   "source": [
    "np.sin(p[0, 0], p[1, 0])"
   ]
  },
  {
   "cell_type": "code",
   "execution_count": null,
   "metadata": {},
   "outputs": [],
   "source": [
    "from statsmodels.graphics.tsaplots import plot_acf\n",
    "plot_acf(results['a']);"
   ]
  },
  {
   "cell_type": "code",
   "execution_count": null,
   "metadata": {},
   "outputs": [],
   "source": []
  },
  {
   "cell_type": "code",
   "execution_count": null,
   "metadata": {},
   "outputs": [],
   "source": []
  },
  {
   "cell_type": "code",
   "execution_count": null,
   "metadata": {},
   "outputs": [],
   "source": [
    "ezmc.viz.traceplot(results, ['ll'])"
   ]
  },
  {
   "cell_type": "code",
   "execution_count": null,
   "metadata": {},
   "outputs": [],
   "source": [
    "raise Exception"
   ]
  },
  {
   "cell_type": "markdown",
   "metadata": {},
   "source": [
    "# Multiple Chains"
   ]
  },
  {
   "cell_type": "code",
   "execution_count": null,
   "metadata": {},
   "outputs": [],
   "source": [
    "m = ezmc.MetropolisSampler(func=f, par_names=['a', 'b'], proposal_sd=[.25, .25], init_func=init_func)\n",
    "m.sample_chains(4, n=3000, verbose=0)"
   ]
  },
  {
   "cell_type": "code",
   "execution_count": null,
   "metadata": {},
   "outputs": [],
   "source": [
    "chains = m.get_chains()"
   ]
  },
  {
   "cell_type": "code",
   "execution_count": null,
   "metadata": {},
   "outputs": [],
   "source": [
    "ezmc.viz.traceplot(chains, ['a', 'b'])"
   ]
  },
  {
   "cell_type": "code",
   "execution_count": null,
   "metadata": {},
   "outputs": [],
   "source": [
    "results = m.get_results(burn_in=500, thin=2)"
   ]
  },
  {
   "cell_type": "code",
   "execution_count": null,
   "metadata": {},
   "outputs": [],
   "source": [
    "traceplot(results)"
   ]
  },
  {
   "cell_type": "code",
   "execution_count": null,
   "metadata": {},
   "outputs": [],
   "source": [
    "results.mean()"
   ]
  },
  {
   "cell_type": "code",
   "execution_count": null,
   "metadata": {},
   "outputs": [],
   "source": [
    "results.std()"
   ]
  },
  {
   "cell_type": "markdown",
   "metadata": {},
   "source": [
    "# One Chain"
   ]
  },
  {
   "cell_type": "code",
   "execution_count": null,
   "metadata": {},
   "outputs": [],
   "source": [
    "m = ezmc.MetropolisSampler(func=f, par_names=['a', 'b'], proposal_sd=[.25, .25], init_func=init_func)\n",
    "m.add_chains(1)"
   ]
  },
  {
   "cell_type": "code",
   "execution_count": null,
   "metadata": {},
   "outputs": [],
   "source": [
    "m.sample_chain(chain_ix=0, n=100)"
   ]
  },
  {
   "cell_type": "code",
   "execution_count": null,
   "metadata": {},
   "outputs": [],
   "source": [
    "chains = m.chains[0].get_results(burn_in=0, thin=1)\n",
    "chains[['a', 'b']].plot()"
   ]
  },
  {
   "cell_type": "code",
   "execution_count": null,
   "metadata": {},
   "outputs": [],
   "source": [
    "results = m.chains[0].get_results(burn_in=2000, thin=10)\n",
    "results.head()\n",
    "results[['a', 'b']].hist(bins=10)"
   ]
  },
  {
   "cell_type": "code",
   "execution_count": null,
   "metadata": {},
   "outputs": [],
   "source": [
    "print(results.mean())\n",
    "print(results.std())"
   ]
  },
  {
   "cell_type": "code",
   "execution_count": null,
   "metadata": {},
   "outputs": [],
   "source": [
    "plt.scatter(results['a'], results['ll'])"
   ]
  },
  {
   "cell_type": "code",
   "execution_count": null,
   "metadata": {},
   "outputs": [],
   "source": [
    "plt.scatter(results['b'], results['ll'])"
   ]
  },
  {
   "cell_type": "code",
   "execution_count": null,
   "metadata": {},
   "outputs": [],
   "source": [
    "stats.pearsonr(results['a'], results['b'])"
   ]
  },
  {
   "cell_type": "code",
   "execution_count": null,
   "metadata": {},
   "outputs": [],
   "source": [
    "plt.scatter(results['a'], results['b'])"
   ]
  },
  {
   "cell_type": "code",
   "execution_count": null,
   "metadata": {},
   "outputs": [],
   "source": [
    "chains['ll'].plot()"
   ]
  },
  {
   "cell_type": "code",
   "execution_count": null,
   "metadata": {},
   "outputs": [],
   "source": []
  },
  {
   "cell_type": "code",
   "execution_count": null,
   "metadata": {},
   "outputs": [],
   "source": [
    "m = ezmc.MetropolisSampler"
   ]
  },
  {
   "cell_type": "code",
   "execution_count": null,
   "metadata": {},
   "outputs": [],
   "source": [
    "chain.chain"
   ]
  }
 ],
 "metadata": {
  "kernelspec": {
   "display_name": "Python 3",
   "language": "python",
   "name": "python3"
  },
  "language_info": {
   "codemirror_mode": {
    "name": "ipython",
    "version": 3
   },
   "file_extension": ".py",
   "mimetype": "text/x-python",
   "name": "python",
   "nbconvert_exporter": "python",
   "pygments_lexer": "ipython3",
   "version": "3.7.3"
  }
 },
 "nbformat": 4,
 "nbformat_minor": 2
}
