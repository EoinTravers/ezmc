{
 "cells": [
  {
   "cell_type": "code",
   "execution_count": null,
   "metadata": {},
   "outputs": [],
   "source": [
    "import numpy as np\n",
    "import pandas as pd\n",
    "import matplotlib.pyplot as plt\n",
    "from scipy import stats\n",
    "import ezmc"
   ]
  },
  {
   "cell_type": "markdown",
   "metadata": {},
   "source": [
    "# Testing MCMC Samplers\n",
    "\n",
    "We can validate a MCMC sampler as follows:\n",
    "\n",
    "- Choose a multivariate distribution which can sample directly from, e.g. multivariate Normal.\n",
    "- Draw N samples...\n",
    "    - Directly.\n",
    "    - Using the MCMC samplers to be tested (after burn-in, thinning)\n",
    "    - Using pymc3\n",
    "- Compare the results\n",
    "    - Visually using density plots. ✓\n",
    "    - By looking at quantiles. ✗\n",
    "    - Komogorov-Smirnof test? ✗\n",
    "         - This shows a significant difference even for pymc3, so maybe not.\n",
    "         \n",
    "\n",
    "Let's use a bivariate Normal as our reference distribution,\n",
    "\n",
    "$$\n",
    "[\\theta_1, \\theta_2] \\sim Normal(\\mu, \\Sigma); \\\\\n",
    "\\mu = [\\mu_1, \\mu_2];\\\\\n",
    "\\Sigma = \n",
    "\\begin{bmatrix}\n",
    " \\sigma_1^2 & \\rho \\sigma_1 \\sigma_2 \\\\\n",
    " \\rho \\sigma_2 \\sigma_1 & \\sigma_2^2\n",
    "\\end{bmatrix};\\\\\n",
    "$$\n",
    "\n",
    "with \n",
    "$$\n",
    "\\mu_1 = 0, \\mu_2 = 0, \\sigma_1 = 1, \\sigma_1 = 1, \\rho = .9\n",
    "$$"
   ]
  },
  {
   "cell_type": "code",
   "execution_count": null,
   "metadata": {},
   "outputs": [],
   "source": []
  },
  {
   "cell_type": "code",
   "execution_count": null,
   "metadata": {},
   "outputs": [],
   "source": [
    "# mu1, mu2, s1, s2, r = reference_pars = [0, 1, 4, 2, .8]\n",
    "mu1, mu2, s1, s2, r = reference_pars = [0, 0, 1, 1, .9]\n",
    "\n",
    "MU = [mu1, mu2]\n",
    "SIGMA = [[s1**2, r*s1*s2], [r*s2*s1, s2**2]]\n",
    "reference_dist = stats.multivariate_normal(mean=MU, cov=SIGMA)\n",
    "\n",
    "def posterior_density(x):\n",
    "    return reference_dist.logpdf(x)\n",
    "\n",
    "n_samples = 100000\n",
    "direct_samples = reference_dist.rvs(n_samples).T"
   ]
  },
  {
   "cell_type": "code",
   "execution_count": null,
   "metadata": {},
   "outputs": [],
   "source": [
    "## Some plotting tools\n",
    "def setup_axes(newfigure=True):\n",
    "    if newfigure:\n",
    "        fig = plt.figure(figsize=(4,4))\n",
    "    plt.xlabel('$θ_1$')\n",
    "    plt.ylabel('$θ_2$')\n",
    "    ax.set_xlim(-5, 5)\n",
    "    ax.set_ylim(-5, 5)\n",
    "    if newfigure:\n",
    "        return fig\n",
    "    \n",
    "def density2d(x, y, dpi=10, xlim=None, ylim=None):\n",
    "    import mpl_scatter_density\n",
    "    if xlim is None:\n",
    "        xlim = [x.min(), x.max()]\n",
    "    if ylim is None:\n",
    "        ylim = [y.min(), y.max()]\n",
    "    fig = plt.figure(figsize=(4,4))\n",
    "    ax = fig.add_subplot(1, 1, 1, projection='scatter_density')\n",
    "    density = ax.scatter_density(x, y, dpi=dpi)\n",
    "    ax.set_xlabel('$θ_1$')\n",
    "    ax.set_ylabel('$θ_2$')\n",
    "    ax.set_xlim(-5, 5)\n",
    "    ax.set_ylim(-5, 5)\n",
    "    \n",
    "setup_axes()\n",
    "plt.scatter(direct_samples[0], direct_samples[1], alpha=.5)\n",
    "plt.title('Direct samples')\n",
    "plt.show()"
   ]
  },
  {
   "cell_type": "code",
   "execution_count": null,
   "metadata": {},
   "outputs": [],
   "source": [
    "density2d(*direct_samples)"
   ]
  },
  {
   "cell_type": "markdown",
   "metadata": {},
   "source": [
    "## Metropolis Sampler\n",
    "\n",
    "Next, we use a MCMC sampler (Metropolis in this case) to sample from this same distribution."
   ]
  },
  {
   "cell_type": "code",
   "execution_count": null,
   "metadata": {},
   "outputs": [],
   "source": [
    "def initialise():\n",
    "    return np.random.normal(0, 20, 2)\n",
    "\n",
    "proposal_sd = .5\n",
    "metropolis = ezmc.MetropolisSampler(func=posterior_density, \n",
    "                                    par_names=['θ1', 'θ2'], noisy=False,\n",
    "                                    proposal_sd=proposal_sd, init_func=initialise)\n",
    "\n",
    "## Figure out how many steps to take to achieve right number of samples\n",
    "burn_in = 5000\n",
    "thin = 5\n",
    "n_chains = metropolis.n_chains\n",
    "steps_to_take = int((n_samples * thin)/n_chains + burn_in)\n",
    "print('Taking %i steps' % steps_to_take)\n",
    "metropolis.sample_chains(n=steps_to_take, verbose=1)"
   ]
  },
  {
   "cell_type": "code",
   "execution_count": null,
   "metadata": {},
   "outputs": [],
   "source": [
    "chains = metropolis.get_chains()\n",
    "ezmc.viz.traceplot(chains)\n",
    "plt.show()"
   ]
  },
  {
   "cell_type": "code",
   "execution_count": null,
   "metadata": {},
   "outputs": [],
   "source": [
    "metropolis_results = metropolis.get_results(burn_in=burn_in, thin=thin)\n",
    "metropolis_samples = metropolis_results[['θ1', 'θ2']].values.T\n",
    "ezmc.viz.traceplot(metropolis_results, pars=['θ1', 'θ2']);"
   ]
  },
  {
   "cell_type": "code",
   "execution_count": null,
   "metadata": {},
   "outputs": [],
   "source": [
    "print(len(metropolis_results), n_samples)\n",
    "assert len(metropolis_results) == n_samples "
   ]
  },
  {
   "cell_type": "code",
   "execution_count": null,
   "metadata": {},
   "outputs": [],
   "source": [
    "density2d(*metropolis_samples)"
   ]
  },
  {
   "cell_type": "markdown",
   "metadata": {},
   "source": [
    "## Differential Evolution Sampler\n",
    "\n",
    "We do the same with the Differential Evolution (DEMC) sampler."
   ]
  },
  {
   "cell_type": "code",
   "execution_count": null,
   "metadata": {},
   "outputs": [],
   "source": [
    "demc = ezmc.DifferentialEvolutionSampler(func=posterior_density, \n",
    "                                         par_names=['θ1', 'θ2'], \n",
    "                                         init_bounds=[[-30, 30], [-30, 30]])\n",
    "\n",
    "burn_in = 5000\n",
    "thin = 5\n",
    "n_chains = demc.n_chains\n",
    "steps_to_take = int((n_samples * thin)/n_chains + burn_in)\n",
    "print('Taking %i steps' % steps_to_take)\n",
    "demc.sample_chains(n=steps_to_take, verbose=1)"
   ]
  },
  {
   "cell_type": "code",
   "execution_count": null,
   "metadata": {},
   "outputs": [],
   "source": [
    "chains = demc.get_chains()\n",
    "ezmc.viz.traceplot(chains)\n",
    "plt.show()"
   ]
  },
  {
   "cell_type": "code",
   "execution_count": null,
   "metadata": {},
   "outputs": [],
   "source": [
    "demc_results = demc.get_results(burn_in=burn_in, thin=thin)\n",
    "demc_samples = demc_results[['θ1', 'θ2']].values.T\n",
    "ezmc.viz.traceplot(demc_results, pars=['θ1', 'θ2']);"
   ]
  },
  {
   "cell_type": "code",
   "execution_count": null,
   "metadata": {},
   "outputs": [],
   "source": [
    "print(len(demc_results), n_samples)\n",
    "assert len(demc_results) == n_samples "
   ]
  },
  {
   "cell_type": "markdown",
   "metadata": {},
   "source": [
    "## Reference pymc3 (NUTS) Sampler\n",
    "\n",
    "As an additional reference, we use `pymc3` to sample from the same distribution."
   ]
  },
  {
   "cell_type": "code",
   "execution_count": null,
   "metadata": {},
   "outputs": [],
   "source": [
    "import pymc3 as pm\n",
    "\n",
    "with pm.Model():\n",
    "    theta = pm.MvNormal('theta', mu=np.array(MU), cov=np.array(SIGMA), shape=2)\n",
    "    step = pm.Metropolis()\n",
    "    trace = pm.sample(int(n_samples/4), step)\n",
    "pm.traceplot(trace)\n",
    "pm_samples = trace.get_values('theta').T"
   ]
  },
  {
   "cell_type": "code",
   "execution_count": null,
   "metadata": {},
   "outputs": [],
   "source": [
    "def density1d(x, xlim=None, **kwargs):\n",
    "    if xlim is None:\n",
    "        xlim = [x.min(), x.max()]\n",
    "    kde = stats.kde.gaussian_kde(x)\n",
    "    xi = np.linspace(*xlim, num=100)\n",
    "    y = kde(xi)\n",
    "    plt.plot(xi, y, **kwargs)\n",
    "    kwargs['label'] = None\n",
    "    plt.fill_between(xi, y, 0, **kwargs, alpha=.1)\n",
    "    \n",
    "fig, axes = plt.subplots(1, 2, figsize=(12, 3))\n",
    "\n",
    "for i in range(2):\n",
    "    plt.sca(axes[i])\n",
    "    density1d(direct_samples[i], label='Direct samples')\n",
    "    density1d(metropolis_samples[i], label='ezmc - Metropolis')\n",
    "    density1d(demc_samples[i], label='ezmc - DEMC')\n",
    "    density1d(pm_samples[i], label='pymc3')\n",
    "    plt.legend()\n",
    "    plt.title(metropolis.par_names[i])\n",
    "plt.tight_layout()\n",
    "plt.show()"
   ]
  },
  {
   "cell_type": "markdown",
   "metadata": {},
   "source": [
    "-----\n",
    "\n",
    "# Kitchen Scraps\n",
    "\n",
    "Everything below this line is a work in progress."
   ]
  },
  {
   "cell_type": "code",
   "execution_count": null,
   "metadata": {},
   "outputs": [],
   "source": [
    "## KS-test vs. direct samples"
   ]
  },
  {
   "cell_type": "code",
   "execution_count": null,
   "metadata": {},
   "outputs": [],
   "source": [
    "d = stats.norm(0, 1)\n",
    "p = [stats.kstest(d.rvs(10000), d.cdf).pvalue for i in range(1000) ]\n",
    "p = np.array(p)\n",
    "np.mean(p < .05)"
   ]
  },
  {
   "cell_type": "code",
   "execution_count": null,
   "metadata": {},
   "outputs": [],
   "source": [
    "reference_1d = stats.norm(0, 1)\n",
    "p = [stats.kstest(reference_dist.rvs(10)[:, 0], reference_1d.cdf).pvalue for i in range(100) ]\n",
    "p = np.array(p)\n",
    "np.mean(p < .05)"
   ]
  },
  {
   "cell_type": "code",
   "execution_count": null,
   "metadata": {},
   "outputs": [],
   "source": []
  },
  {
   "cell_type": "code",
   "execution_count": null,
   "metadata": {},
   "outputs": [],
   "source": [
    "stats.kstest(direct_samples.T, reference_dist.cdf)"
   ]
  },
  {
   "cell_type": "code",
   "execution_count": null,
   "metadata": {},
   "outputs": [],
   "source": []
  },
  {
   "cell_type": "code",
   "execution_count": null,
   "metadata": {},
   "outputs": [],
   "source": [
    "# My likelihood method\n",
    "metro_loglik = np.sum(reference_dist.logpdf(metropolis_samples.T))\n",
    "demc_loglik = np.sum(reference_dist.logpdf(demc_samples.T))\n",
    "pymc3_loglik = np.sum(reference_dist.logpdf(pm_samples.T))\n",
    "ref_loglik = np.array([\n",
    "    np.sum(reference_dist.logpdf(reference_dist.rvs(n_samples)))\n",
    "    for i in range(1000)\n",
    "])"
   ]
  },
  {
   "cell_type": "code",
   "execution_count": null,
   "metadata": {},
   "outputs": [],
   "source": [
    "plt.hist(ref_loglik, bins=20, density=True, color='grey', alpha=.5)\n",
    "plt.vlines(metro_loglik, *plt.ylim(), label='ezmc - Metro', color='red')\n",
    "plt.vlines(demc_loglik, *plt.ylim(), label='ezmc - DEMC', color='green')\n",
    "plt.vlines(pymc3_loglik, *plt.ylim(), label='pymc3', color='blue')\n",
    "plt.legend()"
   ]
  },
  {
   "cell_type": "code",
   "execution_count": null,
   "metadata": {},
   "outputs": [],
   "source": [
    "raise Exception"
   ]
  },
  {
   "cell_type": "code",
   "execution_count": null,
   "metadata": {},
   "outputs": [],
   "source": []
  },
  {
   "cell_type": "code",
   "execution_count": null,
   "metadata": {},
   "outputs": [],
   "source": [
    "## Cook method #1\n",
    "v = np.linspace(0, 1, 20)\n",
    "np.mean( mu1 > direct_samples[0])"
   ]
  },
  {
   "cell_type": "code",
   "execution_count": null,
   "metadata": {},
   "outputs": [],
   "source": [
    "for i in range(2):\n",
    "    print(stats.ks_2samp(mcmc_samples[i], direct_samples[i]))"
   ]
  },
  {
   "cell_type": "code",
   "execution_count": null,
   "metadata": {},
   "outputs": [],
   "source": [
    "plt.scatter(f(direct_samples[1]), f(mcmc_samples[1]))"
   ]
  },
  {
   "cell_type": "code",
   "execution_count": null,
   "metadata": {},
   "outputs": [],
   "source": [
    "qf = lambda x:  x > np.median(x)"
   ]
  },
  {
   "cell_type": "code",
   "execution_count": null,
   "metadata": {},
   "outputs": [],
   "source": [
    "plt.hist(reference_dist.cdf(mcmc_samples.T))"
   ]
  },
  {
   "cell_type": "code",
   "execution_count": null,
   "metadata": {},
   "outputs": [],
   "source": [
    "q = np.linspace(.05, 1-.05, 10)\n",
    "f = lambda x: np.percentile(x, q)\n",
    "plt.figure(figsize=(12, 3))\n",
    "for i in range(2):\n",
    "    plt.subplot(1, 2, i+1)\n",
    "    plt.scatter(f(direct_samples[i]), f(mcmc_samples[i]))"
   ]
  },
  {
   "cell_type": "code",
   "execution_count": null,
   "metadata": {},
   "outputs": [],
   "source": []
  },
  {
   "cell_type": "code",
   "execution_count": null,
   "metadata": {},
   "outputs": [],
   "source": []
  }
 ],
 "metadata": {
  "kernelspec": {
   "display_name": "Python 3",
   "language": "python",
   "name": "python3"
  },
  "language_info": {
   "codemirror_mode": {
    "name": "ipython",
    "version": 3
   },
   "file_extension": ".py",
   "mimetype": "text/x-python",
   "name": "python",
   "nbconvert_exporter": "python",
   "pygments_lexer": "ipython3",
   "version": "3.7.3"
  }
 },
 "nbformat": 4,
 "nbformat_minor": 2
}
