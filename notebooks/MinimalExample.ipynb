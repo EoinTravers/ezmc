{
 "cells": [
  {
   "cell_type": "code",
   "execution_count": null,
   "metadata": {},
   "outputs": [],
   "source": [
    "import numpy as np\n",
    "import pandas as pd\n",
    "import matplotlib.pyplot as plt\n",
    "from scipy import stats\n",
    "import ezmc\n"
   ]
  },
  {
   "cell_type": "markdown",
   "metadata": {},
   "source": [
    "# Minimal Example\n",
    "\n",
    "## Linear Regression"
   ]
  },
  {
   "cell_type": "code",
   "execution_count": null,
   "metadata": {},
   "outputs": [],
   "source": [
    "intercept = 1.\n",
    "slope = .5\n",
    "noise = .2\n",
    "n = 100\n",
    "true_parameters = [intercept, slope, noise]\n",
    "\n",
    "x = np.random.normal(0, 1, n)\n",
    "y = np.random.normal( intercept + slope *x, noise, n)\n",
    "plt.scatter(x, y)"
   ]
  },
  {
   "cell_type": "code",
   "execution_count": null,
   "metadata": {},
   "outputs": [],
   "source": [
    "def get_prior_density(pars):\n",
    "    intercept, slope, noise = pars\n",
    "    dens = (stats.norm.logpdf(loc=0, scale=2, x=intercept) + \n",
    "            stats.norm.logpdf(loc=0, scale=2, x=slope) + \n",
    "            stats.norm.logpdf(loc=0, scale=2, x=noise))\n",
    "    return dens\n",
    "    \n",
    "def get_likelihood(pars, x, y):\n",
    "    intercept, slope, noise = pars\n",
    "    ll = stats.norm.logpdf(loc = intercept + slope * x, scale=noise, x=y)\n",
    "    return np.sum(ll)\n",
    "\n",
    "def get_posterior_density(pars, x, y):\n",
    "    intercept, slope, noise = pars\n",
    "    prior = get_prior_density(pars)\n",
    "    lik = get_likelihood(pars, x, y)\n",
    "    if noise <= 0:\n",
    "        return prior - 1e+10\n",
    "    else:\n",
    "        return prior + lik\n",
    "\n",
    "def f(pars):\n",
    "    ll = get_posterior_density(pars, x, y)\n",
    "    return ll\n",
    "\n",
    "def init():\n",
    "    r = np.random.normal(0, 10, 3)\n",
    "    while r[2] < 0:\n",
    "        r = np.random.normal(0, 10, 3)\n",
    "    return r"
   ]
  },
  {
   "cell_type": "code",
   "execution_count": null,
   "metadata": {},
   "outputs": [],
   "source": [
    "sampler = ezmc.MetropolisSampler(func=f, par_names=['intercept', 'slope', 'noise'],\n",
    "                                proposal_sd=.05, noisy=False,\n",
    "                                init_func=init)\n",
    "sampler.sample_chains(10000)"
   ]
  },
  {
   "cell_type": "code",
   "execution_count": null,
   "metadata": {},
   "outputs": [],
   "source": [
    "chains = sampler.get_chains()\n",
    "ezmc.viz.traceplot(chains)\n",
    "plt.show()"
   ]
  },
  {
   "cell_type": "code",
   "execution_count": null,
   "metadata": {},
   "outputs": [],
   "source": [
    "results = sampler.get_results(burn_in=4000, thin=10)\n",
    "ezmc.viz.traceplot(results, pars=sampler.par_names);"
   ]
  },
  {
   "cell_type": "code",
   "execution_count": null,
   "metadata": {},
   "outputs": [],
   "source": [
    "import arviz as az"
   ]
  },
  {
   "cell_type": "code",
   "execution_count": null,
   "metadata": {},
   "outputs": [],
   "source": [
    "def to_arviz(sampler, burn_in=0, thin=1):\n",
    "    import arviz as az\n",
    "    samples = sampler.get_results(burn_in=burn_in, thin=thin)\n",
    "    nchains = len(set(samples['chain']))\n",
    "    nsteps = len(set(samples['iter']))\n",
    "    npars = len(sampler.par_names)\n",
    "    par_dict = {}\n",
    "    for k in sampler.par_names:\n",
    "        X = samples.pivot_table(values=k, columns='iter', index='chain').values\n",
    "        par_dict[k] = X\n",
    "    posterior = az.dict_to_dataset(par_dict)\n",
    "    return posterior\n",
    "\n",
    "posterior = sampler.to_arviz(burn_in=3000, thin=10)"
   ]
  },
  {
   "cell_type": "code",
   "execution_count": null,
   "metadata": {},
   "outputs": [],
   "source": [
    "az.plot_trace(posterior)"
   ]
  },
  {
   "cell_type": "code",
   "execution_count": null,
   "metadata": {},
   "outputs": [],
   "source": [
    "az.plot_pair(posterior, kind='kde')"
   ]
  },
  {
   "cell_type": "code",
   "execution_count": null,
   "metadata": {},
   "outputs": [],
   "source": [
    "az.plot_pair(posterior, kind='scatter', plot_kwargs=dict(alpha=.1))"
   ]
  },
  {
   "cell_type": "code",
   "execution_count": null,
   "metadata": {},
   "outputs": [],
   "source": [
    "fig, axes = az.plot_forest(posterior, combined=True, figsize=(5, 3))\n",
    "axes[0].vlines(0, *plt.ylim(), linestyle='dashed')"
   ]
  },
  {
   "cell_type": "code",
   "execution_count": null,
   "metadata": {},
   "outputs": [],
   "source": []
  },
  {
   "cell_type": "code",
   "execution_count": null,
   "metadata": {},
   "outputs": [],
   "source": []
  },
  {
   "cell_type": "code",
   "execution_count": null,
   "metadata": {},
   "outputs": [],
   "source": []
  }
 ],
 "metadata": {
  "kernelspec": {
   "display_name": "Python 3",
   "language": "python",
   "name": "python3"
  },
  "language_info": {
   "codemirror_mode": {
    "name": "ipython",
    "version": 3
   },
   "file_extension": ".py",
   "mimetype": "text/x-python",
   "name": "python",
   "nbconvert_exporter": "python",
   "pygments_lexer": "ipython3",
   "version": "3.7.3"
  }
 },
 "nbformat": 4,
 "nbformat_minor": 2
}
